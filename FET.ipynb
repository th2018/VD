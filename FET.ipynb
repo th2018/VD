{
 "cells": [
  {
   "cell_type": "code",
   "execution_count": 10,
   "metadata": {},
   "outputs": [],
   "source": [
    "import pandas as pd\n",
    "import numpy as np"
   ]
  },
  {
   "cell_type": "code",
   "execution_count": 11,
   "metadata": {},
   "outputs": [
    {
     "name": "stdout",
     "output_type": "stream",
     "text": [
      "                  time     start         end  count  speed\n",
      "0  2020-01-07 08:00:00  25423587  2657578318     84     24\n",
      "1  2020-01-07 08:05:00  25423587  2657578318     66     27\n",
      "2  2020-01-07 08:10:00  25423587  2657578318     61     29\n",
      "3  2020-01-07 08:15:00  25423587  2657578318     49     35\n",
      "4  2020-01-07 08:20:00  25423587  2657578318     72     26\n",
      "         lat         lon      nodeid          highway  ref  \\\n",
      "0  25.289479  121.549060  1143800049              NaN  NaN   \n",
      "1  24.979900  121.438729  3657630210              NaN  NaN   \n",
      "2  25.183178  121.448898  3006530662  traffic_signals  NaN   \n",
      "3  25.085714  121.525599  5031527853              NaN  NaN   \n",
      "4  25.218311  121.641769  6539904458              NaN  NaN   \n",
      "\n",
      "                         geometry  \n",
      "0  POINT (121.5490604 25.2894791)  \n",
      "1     POINT (121.4387291 24.9799)  \n",
      "2  POINT (121.4488979 25.1831779)  \n",
      "3  POINT (121.5255987 25.0857136)  \n",
      "4  POINT (121.6417688 25.2183115)  \n",
      "<class 'pandas.core.series.Series'>\n",
      "<class 'pandas.core.series.Series'>\n"
     ]
    }
   ],
   "source": [
    "#read data\n",
    "ispeed=pd.read_csv(r'D:\\tao\\TestData\\ispeed2_0107_0800-1200.csv')\n",
    "node=pd.read_csv(r'D:\\tao\\TestData\\道路資訊_Node.csv')\n",
    "print(ispeed.head())\n",
    "print(node.head())\n",
    "print(type(ispeed['time']))\n",
    "print(type(node['geometry']))"
   ]
  },
  {
   "cell_type": "code",
   "execution_count": 12,
   "metadata": {},
   "outputs": [
    {
     "data": {
      "text/html": [
       "<div>\n",
       "<style scoped>\n",
       "    .dataframe tbody tr th:only-of-type {\n",
       "        vertical-align: middle;\n",
       "    }\n",
       "\n",
       "    .dataframe tbody tr th {\n",
       "        vertical-align: top;\n",
       "    }\n",
       "\n",
       "    .dataframe thead th {\n",
       "        text-align: right;\n",
       "    }\n",
       "</style>\n",
       "<table border=\"1\" class=\"dataframe\">\n",
       "  <thead>\n",
       "    <tr style=\"text-align: right;\">\n",
       "      <th></th>\n",
       "      <th>time</th>\n",
       "      <th>start</th>\n",
       "      <th>end</th>\n",
       "      <th>count</th>\n",
       "      <th>speed</th>\n",
       "      <th>start_lat</th>\n",
       "      <th>start_lon</th>\n",
       "      <th>end_lat</th>\n",
       "      <th>end_lon</th>\n",
       "      <th>ID</th>\n",
       "    </tr>\n",
       "  </thead>\n",
       "  <tbody>\n",
       "    <tr>\n",
       "      <td>164873</td>\n",
       "      <td>2020-01-07 11:40:00</td>\n",
       "      <td>7276389285</td>\n",
       "      <td>7276389286</td>\n",
       "      <td>98</td>\n",
       "      <td>28</td>\n",
       "      <td>25.072372</td>\n",
       "      <td>121.542363</td>\n",
       "      <td>25.072318</td>\n",
       "      <td>121.544253</td>\n",
       "      <td>164873</td>\n",
       "    </tr>\n",
       "    <tr>\n",
       "      <td>164874</td>\n",
       "      <td>2020-01-07 11:45:00</td>\n",
       "      <td>7276389285</td>\n",
       "      <td>7276389286</td>\n",
       "      <td>45</td>\n",
       "      <td>41</td>\n",
       "      <td>25.072372</td>\n",
       "      <td>121.542363</td>\n",
       "      <td>25.072318</td>\n",
       "      <td>121.544253</td>\n",
       "      <td>164874</td>\n",
       "    </tr>\n",
       "    <tr>\n",
       "      <td>164875</td>\n",
       "      <td>2020-01-07 11:50:00</td>\n",
       "      <td>7276389285</td>\n",
       "      <td>7276389286</td>\n",
       "      <td>65</td>\n",
       "      <td>37</td>\n",
       "      <td>25.072372</td>\n",
       "      <td>121.542363</td>\n",
       "      <td>25.072318</td>\n",
       "      <td>121.544253</td>\n",
       "      <td>164875</td>\n",
       "    </tr>\n",
       "    <tr>\n",
       "      <td>164876</td>\n",
       "      <td>2020-01-07 11:55:00</td>\n",
       "      <td>7276389285</td>\n",
       "      <td>7276389286</td>\n",
       "      <td>67</td>\n",
       "      <td>37</td>\n",
       "      <td>25.072372</td>\n",
       "      <td>121.542363</td>\n",
       "      <td>25.072318</td>\n",
       "      <td>121.544253</td>\n",
       "      <td>164876</td>\n",
       "    </tr>\n",
       "    <tr>\n",
       "      <td>164877</td>\n",
       "      <td>2020-01-07 12:00:00</td>\n",
       "      <td>7276389285</td>\n",
       "      <td>7276389286</td>\n",
       "      <td>109</td>\n",
       "      <td>26</td>\n",
       "      <td>25.072372</td>\n",
       "      <td>121.542363</td>\n",
       "      <td>25.072318</td>\n",
       "      <td>121.544253</td>\n",
       "      <td>164877</td>\n",
       "    </tr>\n",
       "  </tbody>\n",
       "</table>\n",
       "</div>"
      ],
      "text/plain": [
       "                       time       start         end  count  speed  start_lat  \\\n",
       "164873  2020-01-07 11:40:00  7276389285  7276389286     98     28  25.072372   \n",
       "164874  2020-01-07 11:45:00  7276389285  7276389286     45     41  25.072372   \n",
       "164875  2020-01-07 11:50:00  7276389285  7276389286     65     37  25.072372   \n",
       "164876  2020-01-07 11:55:00  7276389285  7276389286     67     37  25.072372   \n",
       "164877  2020-01-07 12:00:00  7276389285  7276389286    109     26  25.072372   \n",
       "\n",
       "         start_lon    end_lat     end_lon      ID  \n",
       "164873  121.542363  25.072318  121.544253  164873  \n",
       "164874  121.542363  25.072318  121.544253  164874  \n",
       "164875  121.542363  25.072318  121.544253  164875  \n",
       "164876  121.542363  25.072318  121.544253  164876  \n",
       "164877  121.542363  25.072318  121.544253  164877  "
      ]
     },
     "execution_count": 12,
     "metadata": {},
     "output_type": "execute_result"
    }
   ],
   "source": [
    "#merge start and end lat/lon\n",
    "ispeed_start = pd.merge(ispeed, node, left_on='start',right_on='nodeid')\n",
    "ispeed_start=ispeed_start.drop([ \"nodeid\",'highway','ref','geometry'], axis=1)\n",
    "ispeed_start=ispeed_start.rename(columns={\"time\":\"time\",\"start\":\"start\",\"end\":\"end\",\"count\":\"count\",\"speed\":\"speed\",\"lat\":\"start_lat\",\"lon\":\"start_lon\"})\n",
    "ispeed_se = pd.merge(ispeed_start, node, left_on='end',right_on='nodeid')\n",
    "ispeed_se=ispeed_se.drop([ \"nodeid\",'highway','ref','geometry'], axis=1)\n",
    "ispeed_se=ispeed_se.rename(columns={\"time\":\"time\",\"start\":\"start\",\"end\":\"end\",\"count\":\"count\",\"speed\":\"speed\",\"start_lat\":\"start_lat\",\"start_lon\":\"start_lon\",\"lat\":\"end_lat\",\"lon\":\"end_lon\"})\n",
    "ispeed_se['ID'] = np.arange(len(ispeed_se))\n",
    "ispeed_se.head()\n",
    "ispeed_se.tail()"
   ]
  },
  {
   "cell_type": "code",
   "execution_count": 13,
   "metadata": {},
   "outputs": [
    {
     "name": "stdout",
     "output_type": "stream",
     "text": [
      "              start           end        count        speed    start_lat  \\\n",
      "count  3.368000e+03  3.368000e+03  3368.000000  3368.000000  3368.000000   \n",
      "mean   1.294614e+09  1.307226e+09   129.085511    25.097684    25.059360   \n",
      "std    1.401772e+09  1.416848e+09   133.950668     6.523287     0.010974   \n",
      "min    2.542360e+07  2.542359e+07     1.000000    13.000000    25.042990   \n",
      "25%    6.382131e+08  6.382131e+08    42.000000    21.000000    25.049858   \n",
      "50%    6.561325e+08  6.561325e+08    85.000000    23.000000    25.057903   \n",
      "75%    9.655332e+08  1.140222e+09   168.000000    28.000000    25.066824   \n",
      "max    7.282712e+09  7.282712e+09  1272.000000    64.000000    25.084888   \n",
      "\n",
      "         start_lon      end_lat      end_lon             ID  \n",
      "count  3368.000000  3368.000000  3368.000000    3368.000000  \n",
      "mean    121.538612    25.059368   121.538626   82439.300475  \n",
      "std       0.020197     0.010976     0.020210   47570.012686  \n",
      "min     121.507290    25.043267   121.507328      49.000000  \n",
      "25%     121.522226    25.049858   121.522226   41274.750000  \n",
      "50%     121.534767    25.057903   121.534787   82469.500000  \n",
      "75%     121.556667    25.066734   121.556745  123604.250000  \n",
      "max     121.575484    25.084554   121.575484  164829.000000  \n",
      "                       time       start         end  count  speed  start_lat  \\\n",
      "98      2020-01-07 08:00:00    25423605   618955691    118     27  25.044937   \n",
      "147     2020-01-07 08:00:00   618955595   618955691    154     22  25.044741   \n",
      "134958  2020-01-07 08:00:00  3799089095   662368087    282     15  25.048227   \n",
      "134713  2020-01-07 08:00:00   662368088  2146098472    104     27  25.047321   \n",
      "2744    2020-01-07 08:00:00   292783106   292783128    102     25  25.045509   \n",
      "\n",
      "         start_lon    end_lat     end_lon      ID  \n",
      "98      121.549141  25.044962  121.548931      98  \n",
      "147     121.548928  25.044962  121.548931     147  \n",
      "134958  121.510149  25.050065  121.510549  134958  \n",
      "134713  121.513275  25.048128  121.511400  134713  \n",
      "2744    121.527292  25.045917  121.525538    2744  \n"
     ]
    }
   ],
   "source": [
    "ispeed_se=ispeed_se.sort_values(by=['time'])\n",
    "print(ispeed_se[1:3369].describe())\n",
    "print(ispeed_se[1:3369].tail())\n",
    "ispeed_se[1:3369].to_csv('D:\\\\tao\\\\TestData\\\\ispeed_se_0107_0800_ID.csv',index=False)"
   ]
  },
  {
   "cell_type": "code",
   "execution_count": 44,
   "metadata": {},
   "outputs": [],
   "source": [
    "type(ispeed['time'])\n",
    "ispeed[1:23]\n",
    "ispeed.sort_values(by=['time'])\n",
    "ispeed[1:32975]\n",
    "ispeed[1:32975].to_csv('D:\\\\tao\\\\TestData\\\\ispeed2_0107_0800.csv',index=False)"
   ]
  },
  {
   "cell_type": "code",
   "execution_count": 4,
   "metadata": {},
   "outputs": [
    {
     "data": {
      "text/html": [
       "<div>\n",
       "<style scoped>\n",
       "    .dataframe tbody tr th:only-of-type {\n",
       "        vertical-align: middle;\n",
       "    }\n",
       "\n",
       "    .dataframe tbody tr th {\n",
       "        vertical-align: top;\n",
       "    }\n",
       "\n",
       "    .dataframe thead th {\n",
       "        text-align: right;\n",
       "    }\n",
       "</style>\n",
       "<table border=\"1\" class=\"dataframe\">\n",
       "  <thead>\n",
       "    <tr style=\"text-align: right;\">\n",
       "      <th></th>\n",
       "      <th>time</th>\n",
       "      <th>start</th>\n",
       "      <th>end</th>\n",
       "      <th>count</th>\n",
       "      <th>speed</th>\n",
       "    </tr>\n",
       "  </thead>\n",
       "  <tbody>\n",
       "    <tr>\n",
       "      <td>0</td>\n",
       "      <td>2020-01-07 08:00:00</td>\n",
       "      <td>25423587</td>\n",
       "      <td>2657578318</td>\n",
       "      <td>84</td>\n",
       "      <td>24</td>\n",
       "    </tr>\n",
       "    <tr>\n",
       "      <td>1</td>\n",
       "      <td>2020-01-07 08:05:00</td>\n",
       "      <td>25423587</td>\n",
       "      <td>2657578318</td>\n",
       "      <td>66</td>\n",
       "      <td>27</td>\n",
       "    </tr>\n",
       "    <tr>\n",
       "      <td>2</td>\n",
       "      <td>2020-01-07 08:10:00</td>\n",
       "      <td>25423587</td>\n",
       "      <td>2657578318</td>\n",
       "      <td>61</td>\n",
       "      <td>29</td>\n",
       "    </tr>\n",
       "    <tr>\n",
       "      <td>3</td>\n",
       "      <td>2020-01-07 08:15:00</td>\n",
       "      <td>25423587</td>\n",
       "      <td>2657578318</td>\n",
       "      <td>49</td>\n",
       "      <td>35</td>\n",
       "    </tr>\n",
       "    <tr>\n",
       "      <td>4</td>\n",
       "      <td>2020-01-07 08:20:00</td>\n",
       "      <td>25423587</td>\n",
       "      <td>2657578318</td>\n",
       "      <td>72</td>\n",
       "      <td>26</td>\n",
       "    </tr>\n",
       "  </tbody>\n",
       "</table>\n",
       "</div>"
      ],
      "text/plain": [
       "                  time     start         end  count  speed\n",
       "0  2020-01-07 08:00:00  25423587  2657578318     84     24\n",
       "1  2020-01-07 08:05:00  25423587  2657578318     66     27\n",
       "2  2020-01-07 08:10:00  25423587  2657578318     61     29\n",
       "3  2020-01-07 08:15:00  25423587  2657578318     49     35\n",
       "4  2020-01-07 08:20:00  25423587  2657578318     72     26"
      ]
     },
     "execution_count": 4,
     "metadata": {},
     "output_type": "execute_result"
    }
   ],
   "source": [
    "ispeed.describe()\n",
    "ispeed.head()"
   ]
  },
  {
   "cell_type": "code",
   "execution_count": 19,
   "metadata": {},
   "outputs": [
    {
     "data": {
      "text/plain": [
       "0         True\n",
       "1         True\n",
       "2         True\n",
       "3         True\n",
       "4         True\n",
       "          ... \n",
       "164873    True\n",
       "164874    True\n",
       "164875    True\n",
       "164876    True\n",
       "164877    True\n",
       "Name: end, Length: 164878, dtype: bool"
      ]
     },
     "execution_count": 19,
     "metadata": {},
     "output_type": "execute_result"
    }
   ],
   "source": [
    "ispeed['start'].isin(node['nodeid'])\n",
    "ispeed['end'].isin(node['nodeid'])"
   ]
  },
  {
   "cell_type": "code",
   "execution_count": 25,
   "metadata": {},
   "outputs": [
    {
     "data": {
      "text/plain": [
       "count     28710\n",
       "unique        2\n",
       "top       False\n",
       "freq      26906\n",
       "Name: nodeid, dtype: object"
      ]
     },
     "execution_count": 25,
     "metadata": {},
     "output_type": "execute_result"
    }
   ],
   "source": [
    "node['nodeid'].isin(ispeed['start'])\n",
    "type(node['nodeid'].isin(ispeed['end']))\n",
    "node['nodeid'].isin(ispeed['end']).describe()\n",
    "node['nodeid'].isin(ispeed['start']).describe()\n",
    "#ispeed['end'].isin(node['nodeid'])"
   ]
  },
  {
   "cell_type": "code",
   "execution_count": 26,
   "metadata": {},
   "outputs": [
    {
     "data": {
      "text/plain": [
       "0.9371647509578545"
      ]
     },
     "execution_count": 26,
     "metadata": {},
     "output_type": "execute_result"
    }
   ],
   "source": [
    "26904/28710\n",
    "26906/28710"
   ]
  },
  {
   "cell_type": "code",
   "execution_count": null,
   "metadata": {},
   "outputs": [],
   "source": []
  },
  {
   "cell_type": "code",
   "execution_count": null,
   "metadata": {},
   "outputs": [],
   "source": []
  }
 ],
 "metadata": {
  "kernelspec": {
   "display_name": "Python 3",
   "language": "python",
   "name": "python3"
  },
  "language_info": {
   "codemirror_mode": {
    "name": "ipython",
    "version": 3
   },
   "file_extension": ".py",
   "mimetype": "text/x-python",
   "name": "python",
   "nbconvert_exporter": "python",
   "pygments_lexer": "ipython3",
   "version": "3.7.4"
  }
 },
 "nbformat": 4,
 "nbformat_minor": 2
}
