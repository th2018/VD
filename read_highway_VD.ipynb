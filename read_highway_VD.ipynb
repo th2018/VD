{
 "cells": [
  {
   "cell_type": "markdown",
   "metadata": {},
   "source": [
    "Author: Tao Huang. E-mail: tao7573@gmail.com"
   ]
  },
  {
   "cell_type": "code",
   "execution_count": 28,
   "metadata": {},
   "outputs": [],
   "source": [
    "import pandas as pd\n",
    "import matplotlib.pyplot as plt"
   ]
  },
  {
   "cell_type": "code",
   "execution_count": 18,
   "metadata": {},
   "outputs": [],
   "source": [
    "vd_value5= pd.read_csv(r'D:\\tao\\VD_R\\Taiwan_VD\\20200107\\vd_value5_0800.csv')"
   ]
  },
  {
   "cell_type": "markdown",
   "metadata": {},
   "source": [
    "merge all vd files"
   ]
  },
  {
   "cell_type": "code",
   "execution_count": 19,
   "metadata": {},
   "outputs": [
    {
     "data": {
      "text/html": [
       "<div>\n",
       "<style scoped>\n",
       "    .dataframe tbody tr th:only-of-type {\n",
       "        vertical-align: middle;\n",
       "    }\n",
       "\n",
       "    .dataframe tbody tr th {\n",
       "        vertical-align: top;\n",
       "    }\n",
       "\n",
       "    .dataframe thead th {\n",
       "        text-align: right;\n",
       "    }\n",
       "</style>\n",
       "<table border=\"1\" class=\"dataframe\">\n",
       "  <thead>\n",
       "    <tr style=\"text-align: right;\">\n",
       "      <th></th>\n",
       "      <th>Unnamed: 0</th>\n",
       "      <th>@vdid</th>\n",
       "      <th>@datacollecttime</th>\n",
       "      <th>vsrid</th>\n",
       "      <th>@speed</th>\n",
       "      <th>S@volume</th>\n",
       "    </tr>\n",
       "  </thead>\n",
       "  <tbody>\n",
       "    <tr>\n",
       "      <td>0</td>\n",
       "      <td>0</td>\n",
       "      <td>VD-N5-S-0.191-M</td>\n",
       "      <td>2020/01/07 08:00:00</td>\n",
       "      <td>0</td>\n",
       "      <td>72</td>\n",
       "      <td>60</td>\n",
       "    </tr>\n",
       "    <tr>\n",
       "      <td>1</td>\n",
       "      <td>0</td>\n",
       "      <td>VD-N5-S-0.191-M</td>\n",
       "      <td>2020/01/07 08:00:00</td>\n",
       "      <td>1</td>\n",
       "      <td>82</td>\n",
       "      <td>37</td>\n",
       "    </tr>\n",
       "    <tr>\n",
       "      <td>2</td>\n",
       "      <td>0</td>\n",
       "      <td>VD-N5-S-1.072-M</td>\n",
       "      <td>2020/01/07 08:00:00</td>\n",
       "      <td>0</td>\n",
       "      <td>75</td>\n",
       "      <td>53</td>\n",
       "    </tr>\n",
       "    <tr>\n",
       "      <td>3</td>\n",
       "      <td>0</td>\n",
       "      <td>VD-N5-S-1.072-M</td>\n",
       "      <td>2020/01/07 08:00:00</td>\n",
       "      <td>1</td>\n",
       "      <td>82</td>\n",
       "      <td>39</td>\n",
       "    </tr>\n",
       "    <tr>\n",
       "      <td>4</td>\n",
       "      <td>0</td>\n",
       "      <td>VD-N5-S-2.050-M-PS</td>\n",
       "      <td>2020/01/07 08:00:00</td>\n",
       "      <td>0</td>\n",
       "      <td>72</td>\n",
       "      <td>60</td>\n",
       "    </tr>\n",
       "    <tr>\n",
       "      <td>...</td>\n",
       "      <td>...</td>\n",
       "      <td>...</td>\n",
       "      <td>...</td>\n",
       "      <td>...</td>\n",
       "      <td>...</td>\n",
       "      <td>...</td>\n",
       "    </tr>\n",
       "    <tr>\n",
       "      <td>8358</td>\n",
       "      <td>0</td>\n",
       "      <td>VD-T88-W-4.251-M-Loop</td>\n",
       "      <td>2020/01/07 12:00:00</td>\n",
       "      <td>1</td>\n",
       "      <td>94</td>\n",
       "      <td>22</td>\n",
       "    </tr>\n",
       "    <tr>\n",
       "      <td>8359</td>\n",
       "      <td>0</td>\n",
       "      <td>VD-T88-W-2.000-N-Loop</td>\n",
       "      <td>2020/01/07 12:00:00</td>\n",
       "      <td>0</td>\n",
       "      <td>91</td>\n",
       "      <td>80</td>\n",
       "    </tr>\n",
       "    <tr>\n",
       "      <td>8360</td>\n",
       "      <td>0</td>\n",
       "      <td>VD-T88-W-2.000-N-Loop</td>\n",
       "      <td>2020/01/07 12:00:00</td>\n",
       "      <td>1</td>\n",
       "      <td>86</td>\n",
       "      <td>54</td>\n",
       "    </tr>\n",
       "    <tr>\n",
       "      <td>8361</td>\n",
       "      <td>0</td>\n",
       "      <td>VD-T88-W-1.051-M-Loop</td>\n",
       "      <td>2020/01/07 12:00:00</td>\n",
       "      <td>0</td>\n",
       "      <td>76</td>\n",
       "      <td>49</td>\n",
       "    </tr>\n",
       "    <tr>\n",
       "      <td>8362</td>\n",
       "      <td>0</td>\n",
       "      <td>VD-T88-W-1.051-M-Loop</td>\n",
       "      <td>2020/01/07 12:00:00</td>\n",
       "      <td>1</td>\n",
       "      <td>78</td>\n",
       "      <td>44</td>\n",
       "    </tr>\n",
       "  </tbody>\n",
       "</table>\n",
       "<p>44051 rows × 6 columns</p>\n",
       "</div>"
      ],
      "text/plain": [
       "      Unnamed: 0                  @vdid     @datacollecttime  vsrid  @speed  \\\n",
       "0              0        VD-N5-S-0.191-M  2020/01/07 08:00:00      0      72   \n",
       "1              0        VD-N5-S-0.191-M  2020/01/07 08:00:00      1      82   \n",
       "2              0        VD-N5-S-1.072-M  2020/01/07 08:00:00      0      75   \n",
       "3              0        VD-N5-S-1.072-M  2020/01/07 08:00:00      1      82   \n",
       "4              0     VD-N5-S-2.050-M-PS  2020/01/07 08:00:00      0      72   \n",
       "...          ...                    ...                  ...    ...     ...   \n",
       "8358           0  VD-T88-W-4.251-M-Loop  2020/01/07 12:00:00      1      94   \n",
       "8359           0  VD-T88-W-2.000-N-Loop  2020/01/07 12:00:00      0      91   \n",
       "8360           0  VD-T88-W-2.000-N-Loop  2020/01/07 12:00:00      1      86   \n",
       "8361           0  VD-T88-W-1.051-M-Loop  2020/01/07 12:00:00      0      76   \n",
       "8362           0  VD-T88-W-1.051-M-Loop  2020/01/07 12:00:00      1      78   \n",
       "\n",
       "      S@volume  \n",
       "0           60  \n",
       "1           37  \n",
       "2           53  \n",
       "3           39  \n",
       "4           60  \n",
       "...        ...  \n",
       "8358        22  \n",
       "8359        80  \n",
       "8360        54  \n",
       "8361        49  \n",
       "8362        44  \n",
       "\n",
       "[44051 rows x 6 columns]"
      ]
     },
     "execution_count": 19,
     "metadata": {},
     "output_type": "execute_result"
    }
   ],
   "source": [
    "for t in ['0900','1000','1100','1200']:\n",
    "    vd_value5_t= pd.read_csv(r'D:\\tao\\VD_R\\Taiwan_VD\\20200107\\vd_value5_'+str(t)+'.csv')\n",
    "    vd_value5=vd_value5.append(vd_value5_t)\n",
    "#    print(t)\n",
    "vd_value5['@vdid']=vd_value5['@vdid'].str.replace(\"nfb\",\"\")\n",
    "vd_value5"
   ]
  },
  {
   "cell_type": "code",
   "execution_count": 38,
   "metadata": {},
   "outputs": [
    {
     "name": "stdout",
     "output_type": "stream",
     "text": [
      "      @datacollecttime  Unnamed: 0  vsrid     @speed   S@volume\n",
      "0  2020/01/07 09:00:00         0.0    1.0  88.666667  91.000000\n",
      "1  2020/01/07 10:00:00         0.0    1.0  87.666667  94.333333\n",
      "2  2020/01/07 12:00:00         0.0    1.0  90.000000  85.333333\n",
      "      @datacollecttime  Unnamed: 0  vsrid  @speed  S@volume\n",
      "0  2020/01/07 09:00:00           0      3     266       273\n",
      "1  2020/01/07 10:00:00           0      3     263       283\n",
      "2  2020/01/07 12:00:00           0      3     270       256\n"
     ]
    },
    {
     "data": {
      "text/plain": [
       "[<matplotlib.lines.Line2D at 0x25244c25d48>]"
      ]
     },
     "execution_count": 38,
     "metadata": {},
     "output_type": "execute_result"
    },
    {
     "data": {
      "image/png": "[encoded data removed]",
      "text/plain": [
       "<Figure size 432x288 with 1 Axes>"
      ]
     },
     "metadata": {
      "needs_background": "light"
     },
     "output_type": "display_data"
    }
   ],
   "source": [
    "VD_N1_LOOP=vd_value5[vd_value5['@vdid']=='VD-N1-S-25.435-N-LOOP']\n",
    "VD_N1_LOOP_mean=VD_N1_LOOP.groupby('@datacollecttime', as_index=False).mean()\n",
    "print(VD_N1_LOOP_mean)\n",
    "VD_N1_LOOP_sum=VD_N1_LOOP.groupby('@datacollecttime', as_index=False).sum()\n",
    "print(VD_N1_LOOP_sum)\n",
    "#plt.plot(VD_N1_LOOP_sum['@datacollecttime'],VD_N1_LOOP_sum['S@volume'])\n",
    "plt.plot(VD_N1_LOOP_mean['@datacollecttime'],VD_N1_LOOP_mean['@speed'])"
   ]
  },
  {
   "cell_type": "code",
   "execution_count": 39,
   "metadata": {},
   "outputs": [
    {
     "name": "stdout",
     "output_type": "stream",
     "text": [
      "      @datacollecttime  Unnamed: 0  vsrid  @speed  S@volume\n",
      "0  2020/01/07 09:00:00         0.0    0.5    86.0     128.5\n",
      "1  2020/01/07 10:00:00         0.0    0.5    94.0      99.0\n",
      "2  2020/01/07 12:00:00         0.0    0.5    91.0      90.5\n",
      "      @datacollecttime  Unnamed: 0  vsrid  @speed  S@volume\n",
      "0  2020/01/07 09:00:00           0      1     172       257\n",
      "1  2020/01/07 10:00:00           0      1     188       198\n",
      "2  2020/01/07 12:00:00           0      1     182       181\n"
     ]
    },
    {
     "data": {
      "text/plain": [
       "[<matplotlib.lines.Line2D at 0x25244c7ecc8>]"
      ]
     },
     "execution_count": 39,
     "metadata": {},
     "output_type": "execute_result"
    },
    {
     "data": {
      "image/png": "[encoded data removed]",
      "text/plain": [
       "<Figure size 432x288 with 1 Axes>"
      ]
     },
     "metadata": {
      "needs_background": "light"
     },
     "output_type": "display_data"
    }
   ],
   "source": [
    "VD_N1_LOOP=vd_value5[vd_value5['@vdid']=='VD-N1H-S-25.700-N-LOOP']\n",
    "VD_N1_LOOP_mean=VD_N1_LOOP.groupby('@datacollecttime', as_index=False).mean()\n",
    "print(VD_N1_LOOP_mean)\n",
    "VD_N1_LOOP_sum=VD_N1_LOOP.groupby('@datacollecttime', as_index=False).sum()\n",
    "print(VD_N1_LOOP_sum)\n",
    "#plt.plot(VD_N1_LOOP_sum['@datacollecttime'],VD_N1_LOOP_sum['S@volume'])\n",
    "plt.plot(VD_N1_LOOP_mean['@datacollecttime'],VD_N1_LOOP_mean['@speed'])\n"
   ]
  },
  {
   "cell_type": "code",
   "execution_count": 41,
   "metadata": {},
   "outputs": [
    {
     "name": "stdout",
     "output_type": "stream",
     "text": [
      "      @datacollecttime  Unnamed: 0  vsrid  @speed  S@volume\n",
      "0  2020/01/07 09:00:00           0      2      36        40\n",
      "1  2020/01/07 10:00:00           0      2      33        51\n",
      "2  2020/01/07 12:00:00           0      2      31        46\n",
      "      @datacollecttime  Unnamed: 0  vsrid  @speed  S@volume\n",
      "0  2020/01/07 09:00:00           0     10     180       200\n",
      "1  2020/01/07 10:00:00           0     10     165       255\n",
      "2  2020/01/07 12:00:00           0     10     155       230\n"
     ]
    },
    {
     "data": {
      "text/plain": [
       "[<matplotlib.lines.Line2D at 0x25244d46d08>]"
      ]
     },
     "execution_count": 41,
     "metadata": {},
     "output_type": "execute_result"
    },
    {
     "data": {
      "image/png": "[encoded data removed]",
      "text/plain": [
       "<Figure size 432x288 with 1 Axes>"
      ]
     },
     "metadata": {
      "needs_background": "light"
     },
     "output_type": "display_data"
    }
   ],
   "source": [
    "VD_N1_LOOP=vd_value5[vd_value5['@vdid']=='VD-N1-S-25-I-WS-22-台北']\n",
    "VD_N1_LOOP_mean=VD_N1_LOOP.groupby('@datacollecttime', as_index=False).mean()\n",
    "print(VD_N1_LOOP_mean)\n",
    "VD_N1_LOOP_sum=VD_N1_LOOP.groupby('@datacollecttime', as_index=False).sum()\n",
    "print(VD_N1_LOOP_sum)\n",
    "#plt.plot(VD_N1_LOOP_sum['@datacollecttime'],VD_N1_LOOP_sum['S@volume'])\n",
    "plt.plot(VD_N1_LOOP_mean['@datacollecttime'],VD_N1_LOOP_mean['@speed'])"
   ]
  },
  {
   "cell_type": "code",
   "execution_count": 63,
   "metadata": {},
   "outputs": [
    {
     "name": "stdout",
     "output_type": "stream",
     "text": [
      "0    86.0\n",
      "1    94.0\n",
      "2    92.5\n",
      "Name: @speed, dtype: float64\n",
      "      @datacollecttime  Unnamed: 0  vsrid  @speed  S@volume\n",
      "0  2020/01/07 09:00:00           0      1     172       275\n",
      "1  2020/01/07 10:00:00           0      1     188       190\n",
      "2  2020/01/07 12:00:00           0      1     185       233\n"
     ]
    },
    {
     "data": {
      "text/plain": [
       "[<matplotlib.lines.Line2D at 0x25246519e48>]"
      ]
     },
     "execution_count": 63,
     "metadata": {},
     "output_type": "execute_result"
    },
    {
     "data": {
      "image/png": "[encoded data removed]",
      "text/plain": [
       "<Figure size 432x288 with 1 Axes>"
      ]
     },
     "metadata": {
      "needs_background": "light"
     },
     "output_type": "display_data"
    }
   ],
   "source": [
    "VD_N1_LOOP=vd_value5[vd_value5['@vdid']=='VD-N1H-S-23.068-M-LOOP']\n",
    "VD_N1_LOOP_mean=VD_N1_LOOP.groupby('@datacollecttime', as_index=False).mean()\n",
    "print(VD_N1_LOOP_mean['@speed'])\n",
    "VD_N1_LOOP_sum=VD_N1_LOOP.groupby('@datacollecttime', as_index=False).sum()\n",
    "print(VD_N1_LOOP_sum)\n",
    "#plt.plot(VD_N1_LOOP_sum['@datacollecttime'],VD_N1_LOOP_sum['S@volume'])\n",
    "plt.plot(VD_N1_LOOP_mean['@datacollecttime'],VD_N1_LOOP_mean['@speed'])"
   ]
  },
  {
   "cell_type": "code",
   "execution_count": 55,
   "metadata": {},
   "outputs": [
    {
     "name": "stdout",
     "output_type": "stream",
     "text": [
      "      @datacollecttime  Unnamed: 0  vsrid  @speed  S@volume\n",
      "0  2020/01/07 09:00:00         0.0    1.5   51.75     113.0\n",
      "1  2020/01/07 10:00:00         0.0    1.5   57.50     118.5\n",
      "2  2020/01/07 12:00:00         0.0    1.5   80.00      99.0\n",
      "      @datacollecttime  Unnamed: 0  vsrid  @speed  S@volume\n",
      "0  2020/01/07 09:00:00           0      6     207       452\n",
      "1  2020/01/07 10:00:00           0      6     230       474\n",
      "2  2020/01/07 12:00:00           0      6     320       396\n"
     ]
    },
    {
     "data": {
      "text/plain": [
       "[<matplotlib.lines.Line2D at 0x25245260608>]"
      ]
     },
     "execution_count": 55,
     "metadata": {},
     "output_type": "execute_result"
    },
    {
     "data": {
      "image/png": "[encoded data removed]",
      "text/plain": [
       "<Figure size 432x288 with 1 Axes>"
      ]
     },
     "metadata": {
      "needs_background": "light"
     },
     "output_type": "display_data"
    }
   ],
   "source": [
    "VD_N1_LOOP=vd_value5[vd_value5['@vdid']=='VD-N1-N-23.780-M-LOOP']\n",
    "VD_N1_LOOP_mean=VD_N1_LOOP.groupby('@datacollecttime', as_index=False).mean()\n",
    "print(VD_N1_LOOP_mean)\n",
    "VD_N1_LOOP_sum=VD_N1_LOOP.groupby('@datacollecttime', as_index=False).sum()\n",
    "print(VD_N1_LOOP_sum)\n",
    "#plt.plot(VD_N1_LOOP_sum['@datacollecttime'],VD_N1_LOOP_sum['S@volume'])\n",
    "plt.plot(VD_N1_LOOP_mean['@datacollecttime'],VD_N1_LOOP_mean['@speed'])"
   ]
  },
  {
   "cell_type": "code",
   "execution_count": 45,
   "metadata": {},
   "outputs": [],
   "source": [
    "vd_value5_0800= pd.read_csv(r'D:\\tao\\VD_R\\Taiwan_VD\\20200107\\vd_value5_0800.csv')\n",
    "vd_value5_0800['@vdid']=vd_value5_0800['@vdid'].str.replace(\"nfb\",\"\")\n",
    "vd_value5_0800_mean=vd_value5_0800.groupby('@vdid', as_index=False)['@speed'].mean()\n",
    "vd_value5_0800_mean.head()\n",
    "vd_value5_0800_mean.to_csv(r'D:\\tao\\VD_R\\Taiwan_VD\\20200107\\vd_value5_0800_1.csv')"
   ]
  },
  {
   "cell_type": "code",
   "execution_count": 37,
   "metadata": {},
   "outputs": [
    {
     "data": {
      "text/html": [
       "<div>\n",
       "<style scoped>\n",
       "    .dataframe tbody tr th:only-of-type {\n",
       "        vertical-align: middle;\n",
       "    }\n",
       "\n",
       "    .dataframe tbody tr th {\n",
       "        vertical-align: top;\n",
       "    }\n",
       "\n",
       "    .dataframe thead th {\n",
       "        text-align: right;\n",
       "    }\n",
       "</style>\n",
       "<table border=\"1\" class=\"dataframe\">\n",
       "  <thead>\n",
       "    <tr style=\"text-align: right;\">\n",
       "      <th></th>\n",
       "      <th>@vdid</th>\n",
       "      <th>@speed</th>\n",
       "    </tr>\n",
       "  </thead>\n",
       "  <tbody>\n",
       "    <tr>\n",
       "      <td>0</td>\n",
       "      <td>VD-N1-N-252.012-M-Loop</td>\n",
       "      <td>111.333333</td>\n",
       "    </tr>\n",
       "    <tr>\n",
       "      <td>1</td>\n",
       "      <td>VD-N1-N-254.006-M-Loop</td>\n",
       "      <td>105.666667</td>\n",
       "    </tr>\n",
       "    <tr>\n",
       "      <td>2</td>\n",
       "      <td>VD-N1-N-255.840-M-RS</td>\n",
       "      <td>99.333333</td>\n",
       "    </tr>\n",
       "    <tr>\n",
       "      <td>3</td>\n",
       "      <td>VD-N1-N-256.250-M-Loop</td>\n",
       "      <td>109.000000</td>\n",
       "    </tr>\n",
       "    <tr>\n",
       "      <td>4</td>\n",
       "      <td>VD-N1-N-257-I-EN-21-Loop</td>\n",
       "      <td>47.000000</td>\n",
       "    </tr>\n",
       "    <tr>\n",
       "      <td>...</td>\n",
       "      <td>...</td>\n",
       "      <td>...</td>\n",
       "    </tr>\n",
       "    <tr>\n",
       "      <td>1260</td>\n",
       "      <td>VD-T88-W-7-O-EN-1-Loop</td>\n",
       "      <td>48.000000</td>\n",
       "    </tr>\n",
       "    <tr>\n",
       "      <td>1261</td>\n",
       "      <td>VD-T88-W-8.382-M-RS</td>\n",
       "      <td>0.000000</td>\n",
       "    </tr>\n",
       "    <tr>\n",
       "      <td>1262</td>\n",
       "      <td>VD-T88-W-9-I-NW-1-Loop</td>\n",
       "      <td>53.000000</td>\n",
       "    </tr>\n",
       "    <tr>\n",
       "      <td>1263</td>\n",
       "      <td>VD-T88-W-9-O-EN-1-Loop</td>\n",
       "      <td>62.000000</td>\n",
       "    </tr>\n",
       "    <tr>\n",
       "      <td>1264</td>\n",
       "      <td>VD-T88-W-9.329-N-Loop</td>\n",
       "      <td>94.000000</td>\n",
       "    </tr>\n",
       "  </tbody>\n",
       "</table>\n",
       "<p>1265 rows × 2 columns</p>\n",
       "</div>"
      ],
      "text/plain": [
       "                         @vdid      @speed\n",
       "0       VD-N1-N-252.012-M-Loop  111.333333\n",
       "1       VD-N1-N-254.006-M-Loop  105.666667\n",
       "2         VD-N1-N-255.840-M-RS   99.333333\n",
       "3       VD-N1-N-256.250-M-Loop  109.000000\n",
       "4     VD-N1-N-257-I-EN-21-Loop   47.000000\n",
       "...                        ...         ...\n",
       "1260    VD-T88-W-7-O-EN-1-Loop   48.000000\n",
       "1261       VD-T88-W-8.382-M-RS    0.000000\n",
       "1262    VD-T88-W-9-I-NW-1-Loop   53.000000\n",
       "1263    VD-T88-W-9-O-EN-1-Loop   62.000000\n",
       "1264     VD-T88-W-9.329-N-Loop   94.000000\n",
       "\n",
       "[1265 rows x 2 columns]"
      ]
     },
     "execution_count": 37,
     "metadata": {},
     "output_type": "execute_result"
    }
   ],
   "source": [
    "vd_value5_0800_mean "
   ]
  },
  {
   "cell_type": "markdown",
   "metadata": {},
   "source": [
    "Remove \"nfb\" so the VD data can match VD loc"
   ]
  },
  {
   "cell_type": "code",
   "execution_count": 38,
   "metadata": {},
   "outputs": [],
   "source": [
    "vd_value5_1000= pd.read_csv(r'D:\\tao\\VD_R\\Taiwan_VD\\20200107\\vd_value5_1000.csv')\n",
    "#vd_value5_0800['@vdid2']=\"\"\n",
    "vd_value5_1000['@vdid']=vd_value5_1000['@vdid'].str.replace(\"nfb\",\"\")\n",
    "vd_value5_1000_mean=vd_value5_1000.groupby('@vdid', as_index=False)['@speed'].mean()\n",
    "vd_value5_1000_mean.head()\n",
    "vd_value5_1000_mean.to_csv(r'D:\\tao\\VD_R\\Taiwan_VD\\20200107\\vd_value5_1000_1.csv')"
   ]
  },
  {
   "cell_type": "code",
   "execution_count": 40,
   "metadata": {},
   "outputs": [
    {
     "data": {
      "text/html": [
       "<div>\n",
       "<style scoped>\n",
       "    .dataframe tbody tr th:only-of-type {\n",
       "        vertical-align: middle;\n",
       "    }\n",
       "\n",
       "    .dataframe tbody tr th {\n",
       "        vertical-align: top;\n",
       "    }\n",
       "\n",
       "    .dataframe thead th {\n",
       "        text-align: right;\n",
       "    }\n",
       "</style>\n",
       "<table border=\"1\" class=\"dataframe\">\n",
       "  <thead>\n",
       "    <tr style=\"text-align: right;\">\n",
       "      <th></th>\n",
       "      <th>@vdid</th>\n",
       "      <th>@speed</th>\n",
       "    </tr>\n",
       "  </thead>\n",
       "  <tbody>\n",
       "    <tr>\n",
       "      <td>0</td>\n",
       "      <td>VD-N1-N--0.100-M-LOOP</td>\n",
       "      <td>49.0</td>\n",
       "    </tr>\n",
       "    <tr>\n",
       "      <td>1</td>\n",
       "      <td>VD-N1-N-0.590-M-LOOP</td>\n",
       "      <td>73.5</td>\n",
       "    </tr>\n",
       "    <tr>\n",
       "      <td>2</td>\n",
       "      <td>VD-N1-N-1-I-EN-1-基隆</td>\n",
       "      <td>37.0</td>\n",
       "    </tr>\n",
       "    <tr>\n",
       "      <td>3</td>\n",
       "      <td>VD-N1-N-1-O-SE-1-基隆</td>\n",
       "      <td>53.0</td>\n",
       "    </tr>\n",
       "    <tr>\n",
       "      <td>4</td>\n",
       "      <td>VD-N1-N-1.000-N-LOOP</td>\n",
       "      <td>90.5</td>\n",
       "    </tr>\n",
       "    <tr>\n",
       "      <td>...</td>\n",
       "      <td>...</td>\n",
       "      <td>...</td>\n",
       "    </tr>\n",
       "    <tr>\n",
       "      <td>3727</td>\n",
       "      <td>VD-T88-W-7-O-EN-1-Loop</td>\n",
       "      <td>44.0</td>\n",
       "    </tr>\n",
       "    <tr>\n",
       "      <td>3728</td>\n",
       "      <td>VD-T88-W-8.382-M-RS</td>\n",
       "      <td>0.0</td>\n",
       "    </tr>\n",
       "    <tr>\n",
       "      <td>3729</td>\n",
       "      <td>VD-T88-W-9-I-NW-1-Loop</td>\n",
       "      <td>44.0</td>\n",
       "    </tr>\n",
       "    <tr>\n",
       "      <td>3730</td>\n",
       "      <td>VD-T88-W-9-O-EN-1-Loop</td>\n",
       "      <td>57.0</td>\n",
       "    </tr>\n",
       "    <tr>\n",
       "      <td>3731</td>\n",
       "      <td>VD-T88-W-9.329-N-Loop</td>\n",
       "      <td>92.0</td>\n",
       "    </tr>\n",
       "  </tbody>\n",
       "</table>\n",
       "<p>3732 rows × 2 columns</p>\n",
       "</div>"
      ],
      "text/plain": [
       "                       @vdid  @speed\n",
       "0      VD-N1-N--0.100-M-LOOP    49.0\n",
       "1       VD-N1-N-0.590-M-LOOP    73.5\n",
       "2        VD-N1-N-1-I-EN-1-基隆    37.0\n",
       "3        VD-N1-N-1-O-SE-1-基隆    53.0\n",
       "4       VD-N1-N-1.000-N-LOOP    90.5\n",
       "...                      ...     ...\n",
       "3727  VD-T88-W-7-O-EN-1-Loop    44.0\n",
       "3728     VD-T88-W-8.382-M-RS     0.0\n",
       "3729  VD-T88-W-9-I-NW-1-Loop    44.0\n",
       "3730  VD-T88-W-9-O-EN-1-Loop    57.0\n",
       "3731   VD-T88-W-9.329-N-Loop    92.0\n",
       "\n",
       "[3732 rows x 2 columns]"
      ]
     },
     "execution_count": 40,
     "metadata": {},
     "output_type": "execute_result"
    }
   ],
   "source": [
    "vd_value5_1000_mean\n",
    "\n"
   ]
  },
  {
   "cell_type": "code",
   "execution_count": 7,
   "metadata": {},
   "outputs": [],
   "source": [
    "vd_value5_0900= pd.read_csv(r'D:\\tao\\VD_R\\Taiwan_VD\\20200107\\vd_value5_0900.csv')\n",
    "#vd_value5_0800['@vdid2']=\"\"\n",
    "vd_value5_0900['@vdid']=vd_value5_0900['@vdid'].str.replace(\"nfb\",\"\")\n",
    "vd_value5_0900_mean=vd_value5_0900.groupby('@vdid', as_index=False)['@speed'].mean()\n",
    "vd_value5_0900_mean.head()\n",
    "vd_value5_0900_sum=vd_value5_0900.groupby('@vdid', as_index=False)['S@volume'].sum()\n",
    "vd_value5_0900_vd = pd.merge(vd_value5_0900_sum, vd_value5_0900_mean, left_on='@vdid',right_on='@vdid')\n",
    "\n",
    "vd_value5_0900_vd.to_csv(r'D:\\tao\\VD_R\\Taiwan_VD\\20200107\\vd_value5_0900_1.csv')"
   ]
  },
  {
   "cell_type": "code",
   "execution_count": 8,
   "metadata": {},
   "outputs": [
    {
     "data": {
      "text/html": [
       "<div>\n",
       "<style scoped>\n",
       "    .dataframe tbody tr th:only-of-type {\n",
       "        vertical-align: middle;\n",
       "    }\n",
       "\n",
       "    .dataframe tbody tr th {\n",
       "        vertical-align: top;\n",
       "    }\n",
       "\n",
       "    .dataframe thead th {\n",
       "        text-align: right;\n",
       "    }\n",
       "</style>\n",
       "<table border=\"1\" class=\"dataframe\">\n",
       "  <thead>\n",
       "    <tr style=\"text-align: right;\">\n",
       "      <th></th>\n",
       "      <th>@vdid</th>\n",
       "      <th>S@volume</th>\n",
       "      <th>@speed</th>\n",
       "    </tr>\n",
       "  </thead>\n",
       "  <tbody>\n",
       "    <tr>\n",
       "      <td>0</td>\n",
       "      <td>VD-N1-N--0.100-M-LOOP</td>\n",
       "      <td>120</td>\n",
       "      <td>49.0</td>\n",
       "    </tr>\n",
       "    <tr>\n",
       "      <td>1</td>\n",
       "      <td>VD-N1-N-0.590-M-LOOP</td>\n",
       "      <td>118</td>\n",
       "      <td>75.5</td>\n",
       "    </tr>\n",
       "    <tr>\n",
       "      <td>2</td>\n",
       "      <td>VD-N1-N-1-I-EN-1-基隆</td>\n",
       "      <td>235</td>\n",
       "      <td>38.0</td>\n",
       "    </tr>\n",
       "    <tr>\n",
       "      <td>3</td>\n",
       "      <td>VD-N1-N-1-O-SE-1-基隆</td>\n",
       "      <td>135</td>\n",
       "      <td>58.0</td>\n",
       "    </tr>\n",
       "    <tr>\n",
       "      <td>4</td>\n",
       "      <td>VD-N1-N-1.000-N-LOOP</td>\n",
       "      <td>60</td>\n",
       "      <td>94.0</td>\n",
       "    </tr>\n",
       "  </tbody>\n",
       "</table>\n",
       "</div>"
      ],
      "text/plain": [
       "                   @vdid  S@volume  @speed\n",
       "0  VD-N1-N--0.100-M-LOOP       120    49.0\n",
       "1   VD-N1-N-0.590-M-LOOP       118    75.5\n",
       "2    VD-N1-N-1-I-EN-1-基隆       235    38.0\n",
       "3    VD-N1-N-1-O-SE-1-基隆       135    58.0\n",
       "4   VD-N1-N-1.000-N-LOOP        60    94.0"
      ]
     },
     "execution_count": 8,
     "metadata": {},
     "output_type": "execute_result"
    }
   ],
   "source": [
    "vd_value5_0900_vd.head()"
   ]
  },
  {
   "cell_type": "code",
   "execution_count": null,
   "metadata": {},
   "outputs": [],
   "source": []
  }
 ],
 "metadata": {
  "kernelspec": {
   "display_name": "Python 3",
   "language": "python",
   "name": "python3"
  },
  "language_info": {
   "codemirror_mode": {
    "name": "ipython",
    "version": 3
   },
   "file_extension": ".py",
   "mimetype": "text/x-python",
   "name": "python",
   "nbconvert_exporter": "python",
   "pygments_lexer": "ipython3",
   "version": "3.7.4"
  }
 },
 "nbformat": 4,
 "nbformat_minor": 2
}
