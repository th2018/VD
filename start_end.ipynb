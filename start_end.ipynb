{
 "cells": [
  {
   "cell_type": "code",
   "execution_count": 3,
   "metadata": {},
   "outputs": [],
   "source": [
    "import geopandas as gpd\n",
    "import os\n",
    "os.chdir(r'D:\\tao\\TestData\\FET20200514')"
   ]
  },
  {
   "cell_type": "code",
   "execution_count": 15,
   "metadata": {
    "scrolled": true
   },
   "outputs": [
    {
     "name": "stdout",
     "output_type": "stream",
     "text": [
      "             start           end  count  speed  start_lat   start_lon  \\\n",
      "0     6.500076e+08  6.500076e+08    207     21  25.080239  121.522226   \n",
      "1     6.500076e+08  2.748065e+08    232     22  25.080239  121.522226   \n",
      "2     6.482572e+08  6.482592e+08    147     21  25.072158  121.509172   \n",
      "3     6.482572e+08  6.482574e+08     44     23  25.072158  121.509172   \n",
      "4     6.482572e+08  6.524041e+09     85     18  25.072158  121.509172   \n",
      "...            ...           ...    ...    ...        ...         ...   \n",
      "3907  2.542360e+07  6.189557e+08    118     27  25.044937  121.549141   \n",
      "3908  6.189556e+08  6.189557e+08    154     22  25.044741  121.548928   \n",
      "3909  3.799089e+09  6.623681e+08    282     15  25.048227  121.510149   \n",
      "3910  6.623681e+08  2.146098e+09    104     27  25.047321  121.513275   \n",
      "3911  2.927831e+08  2.927831e+08    102     25  25.045509  121.527292   \n",
      "\n",
      "        end_lat     end_lon      ID start_osm_id  \n",
      "0     25.080280  121.522115    1911     24006863  \n",
      "1     25.080748  121.522515    1813     24006863  \n",
      "2     25.076338  121.509495   62351     24836049  \n",
      "3     25.072161  121.509068   63331     24836049  \n",
      "4     25.072157  121.509204   63429     24836049  \n",
      "...         ...         ...     ...          ...  \n",
      "3907  25.044962  121.548931      98         None  \n",
      "3908  25.044962  121.548931     147         None  \n",
      "3909  25.050065  121.510549  134958         None  \n",
      "3910  25.048128  121.511400  134713         None  \n",
      "3911  25.045917  121.525538    2744         None  \n",
      "\n",
      "[3912 rows x 10 columns]\n",
      "             start           end  count  speed  start_lat   start_lon  \\\n",
      "0     6.489795e+08  6.500076e+08    300     22  25.075223  121.520217   \n",
      "1     6.500076e+08  6.500076e+08    161     22  25.080280  121.522115   \n",
      "2     6.482574e+08  6.482572e+08     91     21  25.072161  121.509068   \n",
      "3     6.831981e+08  6.482572e+08     68     22  25.070960  121.509270   \n",
      "4     6.524041e+09  6.482572e+08    115     20  25.072157  121.509204   \n",
      "...            ...           ...    ...    ...        ...         ...   \n",
      "3905  2.542360e+07  6.189557e+08    118     27  25.044937  121.549141   \n",
      "3906  6.189556e+08  6.189557e+08    154     22  25.044741  121.548928   \n",
      "3907  3.799089e+09  6.623681e+08    282     15  25.048227  121.510149   \n",
      "3908  6.623681e+08  2.146098e+09    104     27  25.047321  121.513275   \n",
      "3909  2.927831e+08  2.927831e+08    102     25  25.045509  121.527292   \n",
      "\n",
      "        end_lat     end_lon      ID end_osm_id  \n",
      "0     25.080239  121.522226   68125   24006863  \n",
      "1     25.080239  121.522226   68174   24006863  \n",
      "2     25.072158  121.509172   63576   24836049  \n",
      "3     25.072158  121.509172   63625   24836049  \n",
      "4     25.072158  121.509172   63674   24836049  \n",
      "...         ...         ...     ...        ...  \n",
      "3905  25.044962  121.548931      98       None  \n",
      "3906  25.044962  121.548931     147       None  \n",
      "3907  25.050065  121.510549  134958       None  \n",
      "3908  25.048128  121.511400  134713       None  \n",
      "3909  25.045917  121.525538    2744       None  \n",
      "\n",
      "[3910 rows x 10 columns]\n"
     ]
    }
   ],
   "source": [
    "start_osm_id= gpd.read_file(r'ispeed_se_0107_0800_ID_start_map_1_lines_3.dbf')\n",
    "start_osm_id=start_osm_id.iloc[:,1:11]\n",
    "start_osm_id.rename(columns = {'osm_id':'start_osm_id'}, inplace = True) \n",
    "print(start_osm_id)\n",
    "\n",
    "end_osm_id= gpd.read_file(r'ispeed_se_0107_0800_ID_end_map_1_lines_3.dbf')\n",
    "end_osm_id=end_osm_id.iloc[:,1:11]\n",
    "end_osm_id.rename(columns = {'osm_id':'end_osm_id'}, inplace = True) \n",
    "print(end_osm_id)\n"
   ]
  },
  {
   "cell_type": "code",
   "execution_count": 20,
   "metadata": {},
   "outputs": [],
   "source": [
    "start_end_osm_id=start_osm_id.merge(end_osm_id, left_on='ID', right_on='ID')\n",
    "start_end_osm_id=start_end_osm_id.dropna()\n",
    "start_end_osm_id\n",
    "\n",
    "\n",
    "print(start_osm_id)\n",
    "start_end_osm_id.to_csv('D:\\\\tao\\\\TestData\\\\FET20200514\\\\start_end_osm_id.csv',index=False)"
   ]
  },
  {
   "cell_type": "code",
   "execution_count": 25,
   "metadata": {},
   "outputs": [
    {
     "name": "stdout",
     "output_type": "stream",
     "text": [
      "             start           end  count  speed  start_lat   start_lon  \\\n",
      "0     6.500076e+08  6.500076e+08    207     21  25.080239  121.522226   \n",
      "1     6.500076e+08  2.748065e+08    232     22  25.080239  121.522226   \n",
      "2     6.482572e+08  6.482592e+08    147     21  25.072158  121.509172   \n",
      "3     6.482572e+08  6.482574e+08     44     23  25.072158  121.509172   \n",
      "4     6.482572e+08  6.524041e+09     85     18  25.072158  121.509172   \n",
      "...            ...           ...    ...    ...        ...         ...   \n",
      "3907  2.542360e+07  6.189557e+08    118     27  25.044937  121.549141   \n",
      "3908  6.189556e+08  6.189557e+08    154     22  25.044741  121.548928   \n",
      "3909  3.799089e+09  6.623681e+08    282     15  25.048227  121.510149   \n",
      "3910  6.623681e+08  2.146098e+09    104     27  25.047321  121.513275   \n",
      "3911  2.927831e+08  2.927831e+08    102     25  25.045509  121.527292   \n",
      "\n",
      "        end_lat     end_lon      ID start_osm_id  \n",
      "0     25.080280  121.522115    1911     24006863  \n",
      "1     25.080748  121.522515    1813     24006863  \n",
      "2     25.076338  121.509495   62351     24836049  \n",
      "3     25.072161  121.509068   63331     24836049  \n",
      "4     25.072157  121.509204   63429     24836049  \n",
      "...         ...         ...     ...          ...  \n",
      "3907  25.044962  121.548931      98         None  \n",
      "3908  25.044962  121.548931     147         None  \n",
      "3909  25.050065  121.510549  134958         None  \n",
      "3910  25.048128  121.511400  134713         None  \n",
      "3911  25.045917  121.525538    2744         None  \n",
      "\n",
      "[3912 rows x 10 columns]\n"
     ]
    }
   ],
   "source": [
    "print(start_osm_id)"
   ]
  },
  {
   "cell_type": "code",
   "execution_count": 30,
   "metadata": {},
   "outputs": [
    {
     "name": "stdout",
     "output_type": "stream",
     "text": [
      "       TARGET_FID     JOIN_FID   OID_    SymbolID  AltMode   Base  HasLabel  \\\n",
      "count  731.000000   731.000000  731.0  731.000000    731.0  731.0     731.0   \n",
      "mean   365.000000   112.254446    0.0   10.084815     -1.0    0.0      -1.0   \n",
      "std    211.165812   433.935635    0.0    6.045800      0.0    0.0       0.0   \n",
      "min      0.000000    -1.000000    0.0    0.000000     -1.0    0.0      -1.0   \n",
      "25%    182.500000    -1.000000    0.0    4.000000     -1.0    0.0      -1.0   \n",
      "50%    365.000000    -1.000000    0.0   13.000000     -1.0    0.0      -1.0   \n",
      "75%    547.500000    -1.000000    0.0   14.000000     -1.0    0.0      -1.0   \n",
      "max    730.000000  2736.000000    0.0   26.000000     -1.0    0.0      -1.0   \n",
      "\n",
      "       LabelID  \n",
      "count    731.0  \n",
      "mean       0.0  \n",
      "std        0.0  \n",
      "min        0.0  \n",
      "25%        0.0  \n",
      "50%        0.0  \n",
      "75%        0.0  \n",
      "max        0.0  \n",
      "count           82\n",
      "unique          50\n",
      "top       50289495\n",
      "freq            10\n",
      "Name: osm_id, dtype: object\n"
     ]
    }
   ],
   "source": [
    "VD_osm_id= gpd.read_file(r'D:\\tao\\TestData\\FET20200514\\Points_map_1_lines_3.dbf')\n",
    "VD_osm_id= VD_osm_id.iloc[:,1:14]\n",
    "#VD_osm_id.rename(columns = {'osm_id':'start_osm_id'}, inplace = True) \n",
    "print(VD_osm_id.describe())\n",
    "print(VD_osm_id['osm_id'].describe())"
   ]
  },
  {
   "cell_type": "code",
   "execution_count": 27,
   "metadata": {},
   "outputs": [
    {
     "name": "stdout",
     "output_type": "stream",
     "text": [
      "Empty DataFrame\n",
      "Columns: [TARGET_FID, JOIN_FID, OID_, Name, FolderPath, SymbolID, AltMode, Base, Snippet, PopupInfo, HasLabel, LabelID, osm_id, highway, start, end, count, speed, start_lat, start_lon, end_lat, end_lon, ID, start_osm_id]\n",
      "Index: []\n",
      "\n",
      "[0 rows x 24 columns]\n"
     ]
    }
   ],
   "source": [
    "VD_osm_id\n",
    "VD_osm_id_start_end_osm_id=VD_osm_id.merge(start_osm_id, left_on='osm_id', right_on='start_osm_id')\n",
    "VD_osm_id_start_end_osm_id=VD_osm_id_start_end_osm_id.dropna()\n",
    "VD_osm_id_start_end_osm_id\n",
    "print(VD_osm_id_start_end_osm_id)\n",
    "VD_osm_id_start_end_osm_id.to_csv('D:\\\\tao\\\\TestData\\\\FET20200514\\\\VD_osm_id_start_end_osm_id.csv',index=False)"
   ]
  },
  {
   "cell_type": "code",
   "execution_count": null,
   "metadata": {},
   "outputs": [],
   "source": []
  }
 ],
 "metadata": {
  "kernelspec": {
   "display_name": "Python 3",
   "language": "python",
   "name": "python3"
  },
  "language_info": {
   "codemirror_mode": {
    "name": "ipython",
    "version": 3
   },
   "file_extension": ".py",
   "mimetype": "text/x-python",
   "name": "python",
   "nbconvert_exporter": "python",
   "pygments_lexer": "ipython3",
   "version": "3.7.4"
  }
 },
 "nbformat": 4,
 "nbformat_minor": 2
}
